{
 "cells": [
  {
   "cell_type": "code",
   "execution_count": null,
   "metadata": {},
   "outputs": [],
   "source": [
    "HarshaVardhan Reddy Bollam"
   ]
  },
  {
   "cell_type": "code",
   "execution_count": 2,
   "metadata": {},
   "outputs": [
    {
     "name": "stdout",
     "output_type": "stream",
     "text": [
      "#   #   \n",
      "##  ##  \n",
      "### ### \n",
      "########\n"
     ]
    }
   ],
   "source": [
    "start = 0\n",
    "end = 4\n",
    "\n",
    "for x in range(4):\n",
    "    string = '#'*(x+1)\n",
    "    string += ' '*(end-x-1)\n",
    "    string += '#'*(x+1)\n",
    "    string += ' '*(7-(end+x))\n",
    "    print(string) "
   ]
  },
  {
   "cell_type": "code",
   "execution_count": null,
   "metadata": {},
   "outputs": [],
   "source": []
  }
 ],
 "metadata": {
  "kernelspec": {
   "display_name": "Python 3",
   "language": "python",
   "name": "python3"
  },
  "language_info": {
   "codemirror_mode": {
    "name": "ipython",
    "version": 3
   },
   "file_extension": ".py",
   "mimetype": "text/x-python",
   "name": "python",
   "nbconvert_exporter": "python",
   "pygments_lexer": "ipython3",
   "version": "3.7.3"
  }
 },
 "nbformat": 4,
 "nbformat_minor": 2
}
